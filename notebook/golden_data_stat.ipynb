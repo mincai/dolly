{
 "cells": [
  {
   "cell_type": "code",
   "execution_count": null,
   "id": "eccf924d",
   "metadata": {},
   "outputs": [],
   "source": [
    "with open(f'/opt/home/bo_ling/dataset/goldern_eval/gds_v4_{start_count}_{end_count}.json', 'w') as f:\n",
    "    json.dump(statistics, f)"
   ]
  },
  {
   "cell_type": "code",
   "execution_count": 18,
   "id": "dd4d3249",
   "metadata": {},
   "outputs": [
    {
     "name": "stdout",
     "output_type": "stream",
     "text": [
      "******************** Performance for doc transcript pii *****************\n",
      "\n",
      " The accuracy for task `Extract driving licence issue state from the following input:`: 0.9941291585127201 on 8176  samples\n",
      " The accuracy for task `Extract address from the following input:`: 0.7697859327217126 on 8175  samples\n",
      " The accuracy for task `Extract gender from the following input:`: 0.9904552129221733 on 8172  samples\n",
      " The accuracy for task `Is the driving license valid for identification?`: 0.9486359360301034 on 5315  samples\n",
      " The accuracy for task `Extract city from the following input:`: 0.8938485997309527 on 8177  samples\n",
      " The accuracy for task `Extract dob from the following input:`: 0.9650238473767886 on 8177  samples\n",
      " The accuracy for task `Extract issue date from the following input:`: 0.8518473207731833 on 8174  samples\n",
      " The accuracy for task `Extract expiration date from the following input:`: 0.9823853211009175 on 8175  samples\n",
      " The accuracy for task `Extract first name from the following input:`: 0.7787426614481409 on 8176  samples\n",
      " The accuracy for task `Extract last name from the following input:`: 0.6271870794078062 on 8173  samples\n",
      " The accuracy for task `Extract license class from the following input:`: 0.9350569783114815 on 8161  samples\n",
      " The accuracy for task `Extract drivers license number from the following input:`: 0.6806506849315068 on 8176  samples\n",
      " The accuracy for task `Extract zip from the following input:`: 0.9568248532289628 on 8176  samples\n",
      " The accuracy for task `Extract middle name from the following input:`: 0.7933112383247967 on 6638  samples\n"
     ]
    }
   ],
   "source": [
    "import os\n",
    "import json\n",
    "statistics = {}\n",
    "parent_dir = \"/opt/home/bo_ling/dataset/goldern_eval\"\n",
    "for file in os.listdir(parent_dir):\n",
    "    with open(os.path.join(parent_dir, file), 'r') as f:\n",
    "        data = json.load(f)\n",
    "    for instruction, stat_dict in data.items():\n",
    "        if instruction in statistics:\n",
    "            statistics[instruction]['eq'] += stat_dict['eq']\n",
    "            statistics[instruction]['neq'] += stat_dict['neq']\n",
    "        else:\n",
    "            statistics[instruction] = stat_dict\n",
    "print(f\"******************** Performance for doc transcript pii *****************\\n\")\n",
    "for k ,v in statistics.items():\n",
    "    v[\"accuracy\"] = v[\"eq\"] / (v[\"eq\"] + v['neq'])\n",
    "    print(f\" The accuracy for task `{k}`: {v['accuracy']} on {(v['eq'] + v['neq'])}  samples\")"
   ]
  },
  {
   "cell_type": "code",
   "execution_count": null,
   "id": "7a4d8bea",
   "metadata": {},
   "outputs": [],
   "source": []
  }
 ],
 "metadata": {
  "kernelspec": {
   "display_name": "Python 3 (ipykernel)",
   "language": "python",
   "name": "python3"
  },
  "language_info": {
   "codemirror_mode": {
    "name": "ipython",
    "version": 3
   },
   "file_extension": ".py",
   "mimetype": "text/x-python",
   "name": "python",
   "nbconvert_exporter": "python",
   "pygments_lexer": "ipython3",
   "version": "3.9.16"
  }
 },
 "nbformat": 4,
 "nbformat_minor": 5
}

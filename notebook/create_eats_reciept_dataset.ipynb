{
 "cells": [
  {
   "cell_type": "code",
   "execution_count": 1,
   "id": "9eb577b8",
   "metadata": {},
   "outputs": [],
   "source": [
    "import sys\n",
    "import os\n",
    "\n",
    "SCRIPT_DIR = os.path.dirname(os.path.abspath(\"...\"))\n",
    "sys.path.append(os.path.dirname(SCRIPT_DIR))\n",
    "from training.generate import (generate_response, load_model_tokenizer_for_generate, \n",
    "                               get_special_token_id, get_special_token_id)\n",
    "from training.transcript_trainer import PROMPT_FORMAT, create_data_set_from_json_list\n",
    "from datasets import Dataset, DatasetDict, load_dataset, load_from_disk\n"
   ]
  },
  {
   "cell_type": "code",
   "execution_count": 7,
   "id": "da351643",
   "metadata": {},
   "outputs": [
    {
     "name": "stderr",
     "output_type": "stream",
     "text": [
      "Found cached dataset generator (/home/prodadmin/.cache/huggingface/datasets/generator/default-1066e70b75cec04f/0.0.0)\n"
     ]
    },
    {
     "data": {
      "application/vnd.jupyter.widget-view+json": {
       "model_id": "",
       "version_major": 2,
       "version_minor": 0
      },
      "text/plain": [
       "Saving the dataset (0/1 shards):   0%|          | 0/1399 [00:00<?, ? examples/s]"
      ]
     },
     "metadata": {},
     "output_type": "display_data"
    },
    {
     "data": {
      "application/vnd.jupyter.widget-view+json": {
       "model_id": "",
       "version_major": 2,
       "version_minor": 0
      },
      "text/plain": [
       "Saving the dataset (0/1 shards):   0%|          | 0/15 [00:00<?, ? examples/s]"
      ]
     },
     "metadata": {},
     "output_type": "display_data"
    }
   ],
   "source": [
    "import json\n",
    "json_list_file = \"/opt/home/bo_ling/dataset/eats_receipt_gcp_v3_train.jsonl\"\n",
    "def gen():\n",
    "    with open(json_list_file) as file:\n",
    "        while True:\n",
    "            line = file.readline()\n",
    "\n",
    "            # if line is empty\n",
    "            # end of file is reached\n",
    "            if not line:\n",
    "                break \n",
    "            try:\n",
    "                data = json.loads(line)\n",
    "\n",
    "            except:\n",
    "                # print(f\"BAD DATA: {line}\")\n",
    "                data = json.loads(line.replace(\"\\\\\", \"\"))\n",
    "\n",
    "            yield{\n",
    "                \"input_text\": data['input_text'], \n",
    "                \"output_text\": data['output_text'].replace(\" total_price\", \"; total_price\").replace(\" total_tax\", \"; total_tax\")\n",
    "            }\n",
    "dataset = Dataset.from_generator(gen)\n",
    "dataset = dataset.train_test_split(test_size=0.01)\n",
    "dataset.save_to_disk(\"/opt/home/bo_ling/dataset/eats_receipt_gcp_v3_train.hf\")"
   ]
  },
  {
   "cell_type": "code",
   "execution_count": 8,
   "id": "3fdb0c60",
   "metadata": {},
   "outputs": [
    {
     "data": {
      "text/plain": [
       "DatasetDict({\n",
       "    train: Dataset({\n",
       "        features: ['input_text', 'output_text'],\n",
       "        num_rows: 1399\n",
       "    })\n",
       "    test: Dataset({\n",
       "        features: ['input_text', 'output_text'],\n",
       "        num_rows: 15\n",
       "    })\n",
       "})"
      ]
     },
     "execution_count": 8,
     "metadata": {},
     "output_type": "execute_result"
    }
   ],
   "source": [
    "train_data = load_from_disk(\"/opt/home/bo_ling/dataset/eats_receipt_gcp_v3_train.hf\")\n",
    "train_data"
   ]
  },
  {
   "cell_type": "code",
   "execution_count": 5,
   "id": "38712d1c",
   "metadata": {},
   "outputs": [
    {
     "name": "stdout",
     "output_type": "stream",
     "text": [
      "Downloading and preparing dataset generator/default to /home/prodadmin/.cache/huggingface/datasets/generator/default-d79e4a51579adc11/0.0.0...\n"
     ]
    },
    {
     "data": {
      "application/vnd.jupyter.widget-view+json": {
       "model_id": "c3cc1523b370483681b3e5c0cacc426f",
       "version_major": 2,
       "version_minor": 0
      },
      "text/plain": [
       "Generating train split: 0 examples [00:00, ? examples/s]"
      ]
     },
     "metadata": {},
     "output_type": "display_data"
    },
    {
     "name": "stdout",
     "output_type": "stream",
     "text": [
      "Dataset generator downloaded and prepared to /home/prodadmin/.cache/huggingface/datasets/generator/default-d79e4a51579adc11/0.0.0. Subsequent calls will reuse this data.\n"
     ]
    },
    {
     "data": {
      "application/vnd.jupyter.widget-view+json": {
       "model_id": "",
       "version_major": 2,
       "version_minor": 0
      },
      "text/plain": [
       "Saving the dataset (0/1 shards):   0%|          | 0/3 [00:00<?, ? examples/s]"
      ]
     },
     "metadata": {},
     "output_type": "display_data"
    },
    {
     "data": {
      "application/vnd.jupyter.widget-view+json": {
       "model_id": "",
       "version_major": 2,
       "version_minor": 0
      },
      "text/plain": [
       "Saving the dataset (0/1 shards):   0%|          | 0/350 [00:00<?, ? examples/s]"
      ]
     },
     "metadata": {},
     "output_type": "display_data"
    }
   ],
   "source": [
    "import json\n",
    "json_list_file = \"/opt/home/bo_ling/dataset/eats_receipt_gcp_v3_test.jsonl\"\n",
    "def gen():\n",
    "    with open(json_list_file) as file:\n",
    "        while True:\n",
    "            line = file.readline()\n",
    "\n",
    "            # if line is empty\n",
    "            # end of file is reached\n",
    "            if not line:\n",
    "                break \n",
    "            try:\n",
    "                data = json.loads(line)\n",
    "\n",
    "            except:\n",
    "                # print(f\"BAD DATA: {line}\")\n",
    "                data = json.loads(line.replace(\"\\\\\", \"\"))\n",
    "\n",
    "            yield{\n",
    "                \"input_text\": data['input_text'], \n",
    "                \"output_text\": data['output_text'].replace(\" total_price\", \"; total_price\").replace(\" total_tax\", \"; total_tax\")\n",
    "            }\n",
    "dataset = Dataset.from_generator(gen)\n",
    "dataset = dataset.train_test_split(test_size=0.99)\n",
    "dataset.save_to_disk(\"/opt/home/bo_ling/dataset/eats_receipt_gcp_v3_test.hf\")"
   ]
  },
  {
   "cell_type": "code",
   "execution_count": 6,
   "id": "16803f8f",
   "metadata": {},
   "outputs": [
    {
     "data": {
      "text/plain": [
       "DatasetDict({\n",
       "    train: Dataset({\n",
       "        features: ['input_text', 'output_text'],\n",
       "        num_rows: 3\n",
       "    })\n",
       "    test: Dataset({\n",
       "        features: ['input_text', 'output_text'],\n",
       "        num_rows: 350\n",
       "    })\n",
       "})"
      ]
     },
     "execution_count": 6,
     "metadata": {},
     "output_type": "execute_result"
    }
   ],
   "source": [
    "test_data = load_from_disk(\"/opt/home/bo_ling/dataset/eats_receipt_gcp_v3_test.hf\")\n",
    "test_data"
   ]
  },
  {
   "cell_type": "code",
   "execution_count": null,
   "id": "917bfad6",
   "metadata": {},
   "outputs": [],
   "source": []
  }
 ],
 "metadata": {
  "kernelspec": {
   "display_name": "Python 3 (ipykernel)",
   "language": "python",
   "name": "python3"
  },
  "language_info": {
   "codemirror_mode": {
    "name": "ipython",
    "version": 3
   },
   "file_extension": ".py",
   "mimetype": "text/x-python",
   "name": "python",
   "nbconvert_exporter": "python",
   "pygments_lexer": "ipython3",
   "version": "3.10.9"
  }
 },
 "nbformat": 4,
 "nbformat_minor": 5
}

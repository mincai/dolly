{
 "cells": [
  {
   "cell_type": "code",
   "execution_count": 3,
   "id": "3cc0ddec",
   "metadata": {},
   "outputs": [
    {
     "name": "stderr",
     "output_type": "stream",
     "text": [
      "/opt/bo_ling/python39/lib/python3.9/site-packages/tqdm/auto.py:21: TqdmWarning: IProgress not found. Please update jupyter and ipywidgets. See https://ipywidgets.readthedocs.io/en/stable/user_install.html\n",
      "  from .autonotebook import tqdm as notebook_tqdm\n"
     ]
    }
   ],
   "source": [
    "import sys\n",
    "import os\n",
    "import numpy as np\n",
    "\n",
    "SCRIPT_DIR = os.path.dirname(os.path.abspath(\"...\"))\n",
    "sys.path.append(os.path.dirname(SCRIPT_DIR))\n",
    "\n",
    "from training.generate import (generate_response, load_model_tokenizer_for_generate, \n",
    "                               get_special_token_id, get_special_token_id)\n",
    "from training.consts import END_KEY, PROMPT_FORMAT, RESPONSE_KEY_NL\n",
    "from training.trainer import PROMPT_FORMAT, create_data_set_from_json_list\n",
    "from datasets import load_from_disk\n",
    "from transformers import (\n",
    "    AutoModelForCausalLM,\n",
    "    AutoTokenizer,\n",
    "    PreTrainedModel,\n",
    "    PreTrainedTokenizer,\n",
    ")"
   ]
  },
  {
   "cell_type": "markdown",
   "id": "3485012b",
   "metadata": {},
   "source": [
    "# Load test dataset that is unseen in train"
   ]
  },
  {
   "cell_type": "code",
   "execution_count": 4,
   "id": "4bdb9ac5",
   "metadata": {},
   "outputs": [
    {
     "data": {
      "text/plain": [
       "Dataset({\n",
       "    features: ['instruction', 'input', 'output', 'text'],\n",
       "    num_rows: 69978\n",
       "})"
      ]
     },
     "execution_count": 4,
     "metadata": {},
     "output_type": "execute_result"
    }
   ],
   "source": [
    "\n",
    "test_data = load_from_disk(\"/opt/home/bo_ling/dataset/doc_transcript_pii_data.hf\")[\"test\"]\n",
    "test_data"
   ]
  },
  {
   "cell_type": "markdown",
   "id": "c8d2e1bd",
   "metadata": {},
   "source": [
    "# Load checkpoint at step: 19600 (12% of total data in first epoch) "
   ]
  },
  {
   "cell_type": "code",
   "execution_count": 18,
   "id": "d1b0ebe1",
   "metadata": {},
   "outputs": [],
   "source": [
    "local_output_dir=\"/opt/home/doc_transcript_pii_checkpoint-19600\"\n",
    "#model, tokenizer = load_model_tokenizer_for_generate(local_output_dir)\n",
    "import torch\n",
    "tokenizer = AutoTokenizer.from_pretrained(local_output_dir, padding_side=\"left\")\n",
    "device = \"cuda:0\" if torch.cuda.is_available() else \"cpu\"\n",
    "model = AutoModelForCausalLM.from_pretrained(local_output_dir, trust_remote_code=True).to(device)"
   ]
  },
  {
   "cell_type": "code",
   "execution_count": 19,
   "id": "61f88a43",
   "metadata": {},
   "outputs": [],
   "source": [
    "def generate_helpdesk_response(\n",
    "    instruction: str,\n",
    "    input_text: str,\n",
    "    model: PreTrainedModel,\n",
    "    tokenizer: PreTrainedTokenizer,\n",
    "    do_sample: bool = True,\n",
    "    max_new_tokens: int = 256,\n",
    "    top_p: float = 0.92,\n",
    "    top_k: int = 0,\n",
    "    **kwargs,\n",
    ") -> str:\n",
    "    texts = PROMPT_FORMAT.format(instruction=instruction, input_text=input_text, output_text=\"\")\n",
    "    input_ids = tokenizer(texts, return_tensors=\"pt\").input_ids.to(\"cuda\")\n",
    "\n",
    "    response_key_token_id = get_special_token_id(tokenizer, RESPONSE_KEY_NL)\n",
    "    end_key_token_id = get_special_token_id(tokenizer, END_KEY)\n",
    "\n",
    "    gen_tokens = model.generate(\n",
    "        input_ids,\n",
    "        pad_token_id=tokenizer.pad_token_id,\n",
    "        # Ensure generation stops once it generates \"### End\"\n",
    "        eos_token_id=end_key_token_id,\n",
    "        do_sample=do_sample,\n",
    "        max_new_tokens=max_new_tokens,\n",
    "        top_p=top_p,\n",
    "        top_k=top_k,\n",
    "        **kwargs,\n",
    "    )[0].cpu()\n",
    "\n",
    "    # The response will be set to this variable if we can identify it.\n",
    "    decoded = None\n",
    "\n",
    "    # Find where \"### Response:\" is first found in the generated tokens.  Considering this is part of the prompt,\n",
    "    # we should definitely find it.  We will return the tokens found after this token.\n",
    "    response_pos = None\n",
    "    response_positions = np.where(gen_tokens == response_key_token_id)[0]\n",
    "    if len(response_positions) == 0:\n",
    "        logger.warn(f\"Could not find response key {response_key_token_id} in: {gen_tokens}\")\n",
    "    else:\n",
    "        response_pos = response_positions[0]\n",
    "\n",
    "    if response_pos:\n",
    "        # Next find where \"### End\" is located.  The model has been trained to end its responses with this sequence\n",
    "        # (or actually, the token ID it maps to, since it is a special token).  We may not find this token, as the\n",
    "        # response could be truncated.  If we don't find it then just return everything to the end.  Note that\n",
    "        # even though we set eos_token_id, we still see the this token at the end.\n",
    "        end_pos = None\n",
    "        end_positions = np.where(gen_tokens == end_key_token_id)[0]\n",
    "        if len(end_positions) > 0:\n",
    "            end_pos = end_positions[0]\n",
    "\n",
    "        decoded = tokenizer.decode(gen_tokens[response_pos + 1 : end_pos]).strip()\n",
    "\n",
    "    return decoded"
   ]
  },
  {
   "cell_type": "markdown",
   "id": "8967af22",
   "metadata": {},
   "source": [
    "# Print some sample output for human to read"
   ]
  },
  {
   "cell_type": "code",
   "execution_count": 20,
   "id": "1e1c846c",
   "metadata": {},
   "outputs": [
    {
     "name": "stdout",
     "output_type": "stream",
     "text": [
      "====================================================================================================\n",
      "====================================================================================================\n",
      "INSTRUCTION:\n",
      "Extract first name from the following input:\n",
      "\n",
      "INPUT:\n",
      "NEW JERSEYMVC AUTO DRIVER LICENSE Ball Chief Administrator MECHA New Jersey Motor Vehicle Commission DL M0841 12083 10962 CLASS D DOB 10-25-1996 ISS 12-25-2020 EXP 10-25-2024 MATTHEWS ALP CHAD T 214 WEST 2ND STREET CLIFTON, NJ 07011-2462 END NONE RESTR 1 A SEY GENDER M HGT 5'-06\" EYES BRN WX NJ WX202036000000002 DUP01 11.00\n",
      "\n",
      "GENERATED:\n",
      "Luis\n",
      "\n",
      "EXPECTED:\n",
      "\n",
      "Chad\n",
      "====================================================================================================\n",
      "====================================================================================================\n",
      "INSTRUCTION:\n",
      "Extract zip from the following input:\n",
      "\n",
      "INPUT:\n",
      "KANSAS Cat B DIRECTOR OF VEHICLES Dave in Har SECRETARY Work A. Bugh DRIVER'S LICENSE K02-46-6014 4d LIC. NO. 3 DOB 06/17/1990 BROWN 2 ARTHUR DONELL, JR 8 12126 E KILLENWOOD DR WICHITA, KS 67206-4124 9 CLASS C 15 SEX M 16 HGT 6'-01\" 17 WGT 220 lb 18 EYES BRO 5 DD 90201528110 BA21020M2317FB USA KS NOT FOR FEDERAL ID 9a END NONE 12 REST B 06/17/1990 4a ISS 01/20/2021 4b EXP 06/17/2023\n",
      "\n",
      "GENERATED:\n",
      "67206\n",
      "\n",
      "EXPECTED:\n",
      "\n",
      "67206\n",
      "====================================================================================================\n",
      "====================================================================================================\n",
      "INSTRUCTION:\n",
      "Extract issue date from the following input:\n",
      "\n",
      "INPUT:\n",
      "California fuy USA DRIVER LICENSE DL Y6976878 EXP 06/01/2023 LN MENDEZ SEVERINO FN JUAN LUIS 750 E 3RD ST APT DD21 POMONA, CA 91766 DOB 06/01/1987 RSTR NONE CLASS C END NONE SEX M HAIR BLK HGT 5'-10\" WGT 185 lb DD 03/27/201953220/47FD/23 06011987 EYES BRN ISS 05/22/2019\n",
      "\n",
      "GENERATED:\n",
      "2019-05-22\n",
      "\n",
      "EXPECTED:\n",
      "\n",
      "2019-05-22\n",
      "====================================================================================================\n",
      "====================================================================================================\n",
      "INSTRUCTION:\n",
      "Extract first name from the following input:\n",
      "\n",
      "INPUT:\n",
      "TRA me Men UTAHO COMMISSIONER OF PUBLIC SAFETY J4d 234176659 3 DOB 11/02/1989 MENDEZ DIAZ 2 OSCAR AURELIO DRIVER LICENSE LIMITED-TERM 5 DD 73438446 9 CLASS D 15 SEX M 16 HGT 6'-02\" 17 WGT 198 lb 18 EYES BRO 19 HAIR BLK 81911 N CREST RD SARATOGA SPRINGS, UT 84045 N 4a ISS 04/21/2021 4b EXP 03/14/2023 WARAK 9a END NONE 12 REST A AUNTANUTAR UT USA 11/02/89 DONOR N\n",
      "\n",
      "GENERATED:\n",
      "Oscar\n",
      "\n",
      "EXPECTED:\n",
      "\n",
      "Oscar\n",
      "====================================================================================================\n",
      "====================================================================================================\n",
      "INSTRUCTION:\n",
      "Extract license class from the following input:\n",
      "\n",
      "INPUT:\n",
      "California USA DRIVER LICENSE DL Y7361143 EXP 08/14/2025 LN SCOTT FN TREVOR ANTHONY 1037 N LAUREL AVE APT 3A W HOLLYWOOD, CA 90046 Junts DOB 08/14/1984 RSTR NONE DONOR YMISSIO TON CLASS C END NONE SEX M HAIR BRN HGT 5'-10\" WGT 190 lb DD 12/30/2020619B7/17FD/25 08141984 EYES BRN ISS 03/25/2021 T884\n",
      "\n",
      "GENERATED:\n",
      "C\n",
      "\n",
      "EXPECTED:\n",
      "\n",
      "C\n",
      "====================================================================================================\n",
      "====================================================================================================\n",
      "INSTRUCTION:\n",
      "Extract last name from the following input:\n",
      "\n",
      "INPUT:\n",
      "Ohio 11-18-1985 USA Mike DeWine, Governor DRIVER LICENSE Charles L. Norman, Registrar NOT FOR FEDERAL ID 3 D08 11-18-1985 4dNO SK173050F THA 1,2 DEVER CHRISTOPHER MARK 8 953 STAGHORN DR CINCINNATI, OH 45245 9 CLASS 4b EXP 9aEND D 11-18-2024 15 SEX 16 HGT 18 EYES M 6-00 BLU 4alSS 11-20-2020 Morthen 5 DD-REF B73119084 THINGS ARE POSSIBLES 12 REST B DIHO SK173050 Jad 11-18-1985\n",
      "\n",
      "GENERATED:\n",
      "Deve\n",
      "\n",
      "EXPECTED:\n",
      "\n",
      "Dever\n",
      "====================================================================================================\n",
      "====================================================================================================\n",
      "INSTRUCTION:\n",
      "Extract license class from the following input:\n",
      "\n",
      "INPUT:\n",
      "020116A84 MARYLAND Driver's License Customer identifier B-600-135-866-544 Family name BAUER Given names DALTON WAYNE Address 906 GAINSBOROUGH CT BEL AIR MD 21014 Date of birth Sex Height 07/09/1992 M 5¹-06\" Restrictions DL C ORGAN DONOR Weight 175 07/03/1992 Date of exp 07/09/2027 Classifications Endorsements Date of issue 07/01/2019\n",
      "\n",
      "GENERATED:\n",
      "C\n",
      "\n",
      "EXPECTED:\n",
      "\n",
      "c\n",
      "====================================================================================================\n",
      "====================================================================================================\n",
      "INSTRUCTION:\n",
      "Extract drivers license number from the following input:\n",
      "\n",
      "INPUT:\n",
      "20 T051721630920 WAWASHINGTON DRIVER LICENSE FEDERAL LIMITS APPLY 9 CLASS DONOR 4d LIC# WDL28S13C93B 1 PHELPS 2 SHAWN ATWOOD 3 DOB 09/22/1999 8 10602 BARNES LN S TACOMA WA 98444-2759 15 SEX M 16 HGT 5'-07\" 12 RESTRICTIONS NONE 4a ISS 05/17/2021 18 EYES BRO 17 WGT 165 lb 9a END NONE 4b EXP 09/22/2026 5 DD WDL28S13C93BT051721630920 Veteran REV 11/12/2019\n",
      "\n",
      "GENERATED:\n",
      "WDL28S13C93B\n",
      "\n",
      "EXPECTED:\n",
      "\n",
      "WDL28S13C93B\n",
      "====================================================================================================\n",
      "====================================================================================================\n",
      "INSTRUCTION:\n",
      "Extract zip from the following input:\n",
      "\n",
      "INPUT:\n",
      "DRIVER LICENSE REGULAR WISCONSIN 4: 0213-0708-2304-04 : OCHOA BADILLO : BARTOLOME JESUS * 1311 FLEETFOOT OR # 203 WAUKESHA, WI 53186 LIMITED TERM * GT 5'11\" ** DES BRO 17 wo: 185 lb 19 MAR BLK 3 008 08/24/1982 %90 NONE NOT FOR FEDERAL PURPOSES 4* 5 04/08/2021 4 * 03/30/2022 5 00 OTK202021040614335010\n",
      "\n",
      "GENERATED:\n",
      "53186\n",
      "\n",
      "EXPECTED:\n",
      "\n",
      "53186\n",
      "====================================================================================================\n",
      "====================================================================================================\n",
      "INSTRUCTION:\n",
      "Extract middle name from the following input:\n",
      "\n",
      "INPUT:\n",
      "Erickus Wilm NEVADA NOT FOR FEDERAL OFFICIAL USE DRIVER LICENSE 1 WILSON 2 ERICKA RENA 8 5758 SEA BREEZE AVE BA LAS VEGAS, NV 89110-4960 15 Sex F 16 Hgt 5'04\" 17 Wgt 250 18 Eyes BRO 9 Class C 12 Restr NONE USA NV 9a End NONE 19 Hair BRO 4a Iss 10/09/2019 5 DD 000129142770638314519 4d DL NO. 1402368321 3 DOB 12/14/1988 12/14/2022 4b Exp\n",
      "\n",
      "GENERATED:\n",
      "Rena\n",
      "\n",
      "EXPECTED:\n",
      "\n",
      "Rena\n",
      "====================================================================================================\n",
      "====================================================================================================\n",
      "INSTRUCTION:\n",
      "Extract issue date from the following input:\n",
      "\n",
      "INPUT:\n",
      "ctrl MISSISSIPPI Dane Withl fn 4d LIC NO 622088968 3 DOB 11/05/1992 DRIVER LICENSE 1 ARBUCKLE 2 DOMINIC DSHUN 8 8452 WINDERSGATE DR OLIVE BRANCH, MS 38654-1231 18 EYES BLK 5 DD 90CBADA5E2AD21089M2905K • Intel Ce . • 14.0\" HD SVA BrightView WLED-Da SIPPE 4a ISS 03/30/2021 9 CLASS R 9a END NONE 12 REST NONE 15 SEX M 16 HGT 6'-00\" alt 46 EXP 11/05/2029 See disclaimers on product box. The OneDrive cloud storage offer is available included Office 365 Personal subscription for a limited time. For more\n",
      "\n",
      "GENERATED:\n",
      "2021-03-30\n",
      "\n",
      "EXPECTED:\n",
      "\n",
      "2021-03-30\n"
     ]
    }
   ],
   "source": [
    "count = 0\n",
    "for d in test_data:\n",
    "    instruction = d[\"instruction\"]\n",
    "    input_text= d[\"input\"]\n",
    "    generated = generate_helpdesk_response(instruction, input_text, model, tokenizer)\n",
    "    expected = d['output']\n",
    "    print(\"=\"*100)\n",
    "    print(\"=\"*100)\n",
    "    print(\"INSTRUCTION:\")\n",
    "    print(instruction)\n",
    "    print(\"\\nINPUT:\")\n",
    "    print(input_text)\n",
    "    print(\"\\nGENERATED:\")\n",
    "    print(generated)\n",
    "    print(\"\\nEXPECTED:\")\n",
    "    print(expected)\n",
    "    count += 1\n",
    "    if count > 10:\n",
    "        break"
   ]
  },
  {
   "cell_type": "code",
   "execution_count": 10,
   "id": "9978b2cf",
   "metadata": {},
   "outputs": [
    {
     "data": {
      "text/plain": [
       "True"
      ]
     },
     "execution_count": 10,
     "metadata": {},
     "output_type": "execute_result"
    }
   ],
   "source": [
    "def normalize_str(s):\n",
    "    return s.replace(\"\\n\", \"\").strip().lower()\n",
    "normalize_str(\"OSCAR\") == normalize_str(\"\\n\\nOscar \")"
   ]
  },
  {
   "cell_type": "markdown",
   "id": "a40de1d2",
   "metadata": {},
   "source": [
    "#  Compute accuracy based on instruction"
   ]
  },
  {
   "cell_type": "code",
   "execution_count": 23,
   "id": "7d949925",
   "metadata": {},
   "outputs": [],
   "source": [
    "count = 0\n",
    "statistics = {}\n",
    "for d in test_data:\n",
    "    instruction = d[\"instruction\"]\n",
    "    input_text= d[\"input\"]\n",
    "    generated = generate_helpdesk_response(instruction, input_text, model, tokenizer)\n",
    "    expected = d['output']\n",
    "    if instruction in statistics:\n",
    "        stat = statistics[instruction]\n",
    "    else:\n",
    "        stat = {\"eq\": 0, \"neq\": 0}\n",
    "        statistics[instruction] = stat\n",
    "    if normalize_str(generated) == normalize_str(expected):\n",
    "        stat[\"eq\"] += 1\n",
    "    else:\n",
    "        stat[\"neq\"] += 1\n",
    "    count += 1\n",
    "    if count > 500:\n",
    "        break"
   ]
  },
  {
   "cell_type": "code",
   "execution_count": 31,
   "id": "d5757cde",
   "metadata": {},
   "outputs": [
    {
     "name": "stdout",
     "output_type": "stream",
     "text": [
      "******************** Performance for doc transcript pii *****************\n",
      "\n",
      "======= The accuracy for task `Extract first name from the following input:`: 0.6363636363636364  ========\n",
      "======= The accuracy for task `Extract zip from the following input:`: 0.9166666666666666  ========\n",
      "======= The accuracy for task `Extract issue date from the following input:`: 1.0  ========\n",
      "======= The accuracy for task `Extract license class from the following input:`: 1.0  ========\n",
      "======= The accuracy for task `Extract last name from the following input:`: 0.4444444444444444  ========\n",
      "======= The accuracy for task `Extract drivers license number from the following input:`: 0.7058823529411765  ========\n",
      "======= The accuracy for task `Extract middle name from the following input:`: 0.775  ========\n",
      "======= The accuracy for task `Extract address from the following input:`: 0.8461538461538461  ========\n",
      "======= The accuracy for task `Extract driving licence issue state from the following input:`: 0.9459459459459459  ========\n",
      "======= The accuracy for task `Extract city from the following input:`: 0.9166666666666666  ========\n",
      "======= The accuracy for task `Extract expiration date from the following input:`: 0.9545454545454546  ========\n",
      "======= The accuracy for task `Is the driving license valid for identification? :`: 0.8235294117647058  ========\n",
      "======= The accuracy for task `Extract gender from the following input:`: 1.0  ========\n",
      "======= The accuracy for task `Extract dob from the following input:`: 1.0  ========\n"
     ]
    }
   ],
   "source": [
    "print(f\"******************** Performance for doc transcript pii *****************\\n\")\n",
    "for k ,v in statistics.items():\n",
    "    v[\"accuracy\"] = v[\"eq\"] / (v[\"eq\"] + v['neq'])\n",
    "    print(f\"======= The accuracy for task `{k}`: {v['accuracy']}  ========\")"
   ]
  },
  {
   "cell_type": "markdown",
   "id": "f5075312",
   "metadata": {},
   "source": [
    "## Sample results when load earlier checkpoint 12000 (performance is worse)"
   ]
  },
  {
   "cell_type": "code",
   "execution_count": 17,
   "id": "4cc91f07",
   "metadata": {},
   "outputs": [
    {
     "data": {
      "text/plain": [
       "{'Extract first name from the following input:': {'eq': 2, 'neq': 4},\n",
       " 'Extract zip from the following input:': {'eq': 8, 'neq': 1},\n",
       " 'Extract issue date from the following input:': {'eq': 7, 'neq': 0},\n",
       " 'Extract license class from the following input:': {'eq': 8, 'neq': 0},\n",
       " 'Extract last name from the following input:': {'eq': 1, 'neq': 4},\n",
       " 'Extract drivers license number from the following input:': {'eq': 4,\n",
       "  'neq': 1},\n",
       " 'Extract middle name from the following input:': {'eq': 7, 'neq': 2},\n",
       " 'Extract address from the following input:': {'eq': 7, 'neq': 1},\n",
       " 'Extract driving licence issue state from the following input:': {'eq': 11,\n",
       "  'neq': 0},\n",
       " 'Extract city from the following input:': {'eq': 3, 'neq': 1},\n",
       " 'Extract expiration date from the following input:': {'eq': 13, 'neq': 0},\n",
       " 'Is the driving license valid for identification? :': {'eq': 3, 'neq': 0},\n",
       " 'Extract gender from the following input:': {'eq': 7, 'neq': 1},\n",
       " 'Extract dob from the following input:': {'eq': 5, 'neq': 0}}"
      ]
     },
     "execution_count": 17,
     "metadata": {},
     "output_type": "execute_result"
    }
   ],
   "source": [
    "#statistics #for check point 12000"
   ]
  },
  {
   "cell_type": "code",
   "execution_count": null,
   "id": "dd5533c1",
   "metadata": {},
   "outputs": [],
   "source": []
  }
 ],
 "metadata": {
  "kernelspec": {
   "display_name": "Python 3 (ipykernel)",
   "language": "python",
   "name": "python3"
  },
  "language_info": {
   "codemirror_mode": {
    "name": "ipython",
    "version": 3
   },
   "file_extension": ".py",
   "mimetype": "text/x-python",
   "name": "python",
   "nbconvert_exporter": "python",
   "pygments_lexer": "ipython3",
   "version": "3.9.16"
  }
 },
 "nbformat": 4,
 "nbformat_minor": 5
}

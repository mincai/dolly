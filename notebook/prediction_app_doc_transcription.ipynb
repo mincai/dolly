{
 "cells": [
  {
   "cell_type": "code",
   "execution_count": 1,
   "id": "3cc0ddec",
   "metadata": {},
   "outputs": [
    {
     "name": "stderr",
     "output_type": "stream",
     "text": [
      "/opt/bo_ling/python39/lib/python3.9/site-packages/tqdm/auto.py:21: TqdmWarning: IProgress not found. Please update jupyter and ipywidgets. See https://ipywidgets.readthedocs.io/en/stable/user_install.html\n",
      "  from .autonotebook import tqdm as notebook_tqdm\n"
     ]
    }
   ],
   "source": [
    "import sys\n",
    "import os\n",
    "import numpy as np\n",
    "\n",
    "SCRIPT_DIR = os.path.dirname(os.path.abspath(\"...\"))\n",
    "sys.path.append(os.path.dirname(SCRIPT_DIR))\n",
    "\n",
    "from training.generate import (generate_response, load_model_tokenizer_for_generate, \n",
    "                               get_special_token_id, get_special_token_id)\n",
    "from training.consts import END_KEY, PROMPT_FORMAT, RESPONSE_KEY_NL\n",
    "from training.trainer import PROMPT_FORMAT, create_data_set_from_json_list\n",
    "from datasets import load_from_disk\n",
    "from transformers import (\n",
    "    AutoModelForCausalLM,\n",
    "    AutoTokenizer,\n",
    "    PreTrainedModel,\n",
    "    PreTrainedTokenizer,\n",
    ")"
   ]
  },
  {
   "cell_type": "markdown",
   "id": "3485012b",
   "metadata": {},
   "source": [
    "# Load goldern dataset that is unseen in train"
   ]
  },
  {
   "cell_type": "code",
   "execution_count": 2,
   "id": "4bdb9ac5",
   "metadata": {},
   "outputs": [
    {
     "data": {
      "text/plain": [
       "Dataset({\n",
       "    features: ['instruction', 'input', 'output', 'text'],\n",
       "    num_rows: 182662\n",
       "})"
      ]
     },
     "execution_count": 2,
     "metadata": {},
     "output_type": "execute_result"
    }
   ],
   "source": [
    "\n",
    "test_data = load_from_disk(\"/opt/home/bo_ling/dataset/gds_v4.hf\")\n",
    "test_data"
   ]
  },
  {
   "cell_type": "code",
   "execution_count": 3,
   "id": "4e491e54",
   "metadata": {},
   "outputs": [
    {
     "data": {
      "text/plain": [
       "{'instruction': 'Extract dob from the following input:',\n",
       " 'input': 'California DRIVER LICENSE 081202 LN SOTO MUNGUIA FN ALEC PIERRE 9939 VAN RUITEN ST BELLFLOWER, CA 90706 SEX M AM DONOR USA DLY7679862 EXP 08/12/2025 DOB 08/12/2002 AGE 2 IN 7023 DD 08/04/2021606A3/E5FD/25 CLASS C END NONE RSTR NONE 08122002 HAIR BRN EYES HZL HGT 5\\'-11\" WGT 205 lb FEDERAL LIMITS APPLY ISS 10/14/2021',\n",
       " 'output': '\\n2002-08-12',\n",
       " 'text': 'Below is an instruction that describes a task. Write a response that appropriately completes the request.\\n\\n### Instruction:\\nExtract dob from the following input:\\nCalifornia DRIVER LICENSE 081202 LN SOTO MUNGUIA FN ALEC PIERRE 9939 VAN RUITEN ST BELLFLOWER, CA 90706 SEX M AM DONOR USA DLY7679862 EXP 08/12/2025 DOB 08/12/2002 AGE 2 IN 7023 DD 08/04/2021606A3/E5FD/25 CLASS C END NONE RSTR NONE 08122002 HAIR BRN EYES HZL HGT 5\\'-11\" WGT 205 lb FEDERAL LIMITS APPLY ISS 10/14/2021\\n\\n### Response:\\n2002-08-12\\n'}"
      ]
     },
     "execution_count": 3,
     "metadata": {},
     "output_type": "execute_result"
    }
   ],
   "source": [
    "test_data[0]"
   ]
  },
  {
   "cell_type": "markdown",
   "id": "c8d2e1bd",
   "metadata": {},
   "source": [
    "# Load checkpoint at step: 19600 (12% of total data in first epoch) "
   ]
  },
  {
   "cell_type": "code",
   "execution_count": 4,
   "id": "d1b0ebe1",
   "metadata": {},
   "outputs": [],
   "source": [
    "local_output_dir=\"/opt/home/doc_transcript_pii_checkpoint-49200\"\n",
    "#model, tokenizer = load_model_tokenizer_for_generate(local_output_dir)\n",
    "import torch\n",
    "tokenizer = AutoTokenizer.from_pretrained(local_output_dir, padding_side=\"left\")\n",
    "device = \"cuda:0\" if torch.cuda.is_available() else \"cpu\"\n",
    "model = AutoModelForCausalLM.from_pretrained(local_output_dir, trust_remote_code=True).to(device)"
   ]
  },
  {
   "cell_type": "code",
   "execution_count": 5,
   "id": "61f88a43",
   "metadata": {},
   "outputs": [],
   "source": [
    "def generate_helpdesk_response(\n",
    "    instruction: str,\n",
    "    input_text: str,\n",
    "    model: PreTrainedModel,\n",
    "    tokenizer: PreTrainedTokenizer,\n",
    "    do_sample: bool = True,\n",
    "    max_new_tokens: int = 256,\n",
    "    top_p: float = 0.92,\n",
    "    top_k: int = 0,\n",
    "    **kwargs,\n",
    ") -> str:\n",
    "    texts = PROMPT_FORMAT.format(instruction=instruction, input_text=input_text, output_text=\"\")\n",
    "    input_ids = tokenizer(texts, return_tensors=\"pt\").input_ids.to(\"cuda\")\n",
    "\n",
    "    response_key_token_id = get_special_token_id(tokenizer, RESPONSE_KEY_NL)\n",
    "    end_key_token_id = get_special_token_id(tokenizer, END_KEY)\n",
    "\n",
    "    gen_tokens = model.generate(\n",
    "        input_ids,\n",
    "        pad_token_id=tokenizer.pad_token_id,\n",
    "        # Ensure generation stops once it generates \"### End\"\n",
    "        eos_token_id=end_key_token_id,\n",
    "        do_sample=do_sample,\n",
    "        max_new_tokens=max_new_tokens,\n",
    "        top_p=top_p,\n",
    "        top_k=top_k,\n",
    "        **kwargs,\n",
    "    )[0].cpu()\n",
    "\n",
    "    # The response will be set to this variable if we can identify it.\n",
    "    decoded = None\n",
    "\n",
    "    # Find where \"### Response:\" is first found in the generated tokens.  Considering this is part of the prompt,\n",
    "    # we should definitely find it.  We will return the tokens found after this token.\n",
    "    response_pos = None\n",
    "    response_positions = np.where(gen_tokens == response_key_token_id)[0]\n",
    "    if len(response_positions) == 0:\n",
    "        logger.warn(f\"Could not find response key {response_key_token_id} in: {gen_tokens}\")\n",
    "    else:\n",
    "        response_pos = response_positions[0]\n",
    "\n",
    "    if response_pos:\n",
    "        # Next find where \"### End\" is located.  The model has been trained to end its responses with this sequence\n",
    "        # (or actually, the token ID it maps to, since it is a special token).  We may not find this token, as the\n",
    "        # response could be truncated.  If we don't find it then just return everything to the end.  Note that\n",
    "        # even though we set eos_token_id, we still see the this token at the end.\n",
    "        end_pos = None\n",
    "        end_positions = np.where(gen_tokens == end_key_token_id)[0]\n",
    "        if len(end_positions) > 0:\n",
    "            end_pos = end_positions[0]\n",
    "\n",
    "        decoded = tokenizer.decode(gen_tokens[response_pos + 1 : end_pos]).strip()\n",
    "\n",
    "    return decoded"
   ]
  },
  {
   "cell_type": "markdown",
   "id": "8967af22",
   "metadata": {},
   "source": [
    "# Print some sample output for human to read"
   ]
  },
  {
   "cell_type": "code",
   "execution_count": 6,
   "id": "1e1c846c",
   "metadata": {},
   "outputs": [
    {
     "name": "stdout",
     "output_type": "stream",
     "text": [
      "====================================================================================================\n",
      "====================================================================================================\n",
      "INSTRUCTION:\n",
      "Extract dob from the following input:\n",
      "\n",
      "INPUT:\n",
      "California DRIVER LICENSE 081202 LN SOTO MUNGUIA FN ALEC PIERRE 9939 VAN RUITEN ST BELLFLOWER, CA 90706 SEX M AM DONOR USA DLY7679862 EXP 08/12/2025 DOB 08/12/2002 AGE 2 IN 7023 DD 08/04/2021606A3/E5FD/25 CLASS C END NONE RSTR NONE 08122002 HAIR BRN EYES HZL HGT 5'-11\" WGT 205 lb FEDERAL LIMITS APPLY ISS 10/14/2021\n",
      "\n",
      "GENERATED:\n",
      "2002-08-12\n",
      "\n",
      "EXPECTED:\n",
      "\n",
      "2002-08-12\n",
      "====================================================================================================\n",
      "====================================================================================================\n",
      "INSTRUCTION:\n",
      "Extract issue date from the following input:\n",
      "\n",
      "INPUT:\n",
      "California DRIVER LICENSE 081202 LN SOTO MUNGUIA FN ALEC PIERRE 9939 VAN RUITEN ST BELLFLOWER, CA 90706 SEX M AM DONOR USA DLY7679862 EXP 08/12/2025 DOB 08/12/2002 AGE 2 IN 7023 DD 08/04/2021606A3/E5FD/25 CLASS C END NONE RSTR NONE 08122002 HAIR BRN EYES HZL HGT 5'-11\" WGT 205 lb FEDERAL LIMITS APPLY ISS 10/14/2021\n",
      "\n",
      "GENERATED:\n",
      "2021-10-14\n",
      "\n",
      "EXPECTED:\n",
      "\n",
      "2021-10-14\n",
      "====================================================================================================\n",
      "====================================================================================================\n",
      "INSTRUCTION:\n",
      "Extract expiration date from the following input:\n",
      "\n",
      "INPUT:\n",
      "California DRIVER LICENSE 081202 LN SOTO MUNGUIA FN ALEC PIERRE 9939 VAN RUITEN ST BELLFLOWER, CA 90706 SEX M AM DONOR USA DLY7679862 EXP 08/12/2025 DOB 08/12/2002 AGE 2 IN 7023 DD 08/04/2021606A3/E5FD/25 CLASS C END NONE RSTR NONE 08122002 HAIR BRN EYES HZL HGT 5'-11\" WGT 205 lb FEDERAL LIMITS APPLY ISS 10/14/2021\n",
      "\n",
      "GENERATED:\n",
      "2025-08-12\n",
      "\n",
      "EXPECTED:\n",
      "\n",
      "2025-08-12\n",
      "====================================================================================================\n",
      "====================================================================================================\n",
      "INSTRUCTION:\n",
      "Extract first name from the following input:\n",
      "\n",
      "INPUT:\n",
      "California DRIVER LICENSE 081202 LN SOTO MUNGUIA FN ALEC PIERRE 9939 VAN RUITEN ST BELLFLOWER, CA 90706 SEX M AM DONOR USA DLY7679862 EXP 08/12/2025 DOB 08/12/2002 AGE 2 IN 7023 DD 08/04/2021606A3/E5FD/25 CLASS C END NONE RSTR NONE 08122002 HAIR BRN EYES HZL HGT 5'-11\" WGT 205 lb FEDERAL LIMITS APPLY ISS 10/14/2021\n",
      "\n",
      "GENERATED:\n",
      "Alec\n",
      "\n",
      "EXPECTED:\n",
      "\n",
      "ALEC\n",
      "====================================================================================================\n",
      "====================================================================================================\n",
      "INSTRUCTION:\n",
      "Extract middle name from the following input:\n",
      "\n",
      "INPUT:\n",
      "California DRIVER LICENSE 081202 LN SOTO MUNGUIA FN ALEC PIERRE 9939 VAN RUITEN ST BELLFLOWER, CA 90706 SEX M AM DONOR USA DLY7679862 EXP 08/12/2025 DOB 08/12/2002 AGE 2 IN 7023 DD 08/04/2021606A3/E5FD/25 CLASS C END NONE RSTR NONE 08122002 HAIR BRN EYES HZL HGT 5'-11\" WGT 205 lb FEDERAL LIMITS APPLY ISS 10/14/2021\n",
      "\n",
      "GENERATED:\n",
      "Patricia\n",
      "\n",
      "EXPECTED:\n",
      "\n",
      "PIERRE\n",
      "====================================================================================================\n",
      "====================================================================================================\n",
      "INSTRUCTION:\n",
      "Extract last name from the following input:\n",
      "\n",
      "INPUT:\n",
      "California DRIVER LICENSE 081202 LN SOTO MUNGUIA FN ALEC PIERRE 9939 VAN RUITEN ST BELLFLOWER, CA 90706 SEX M AM DONOR USA DLY7679862 EXP 08/12/2025 DOB 08/12/2002 AGE 2 IN 7023 DD 08/04/2021606A3/E5FD/25 CLASS C END NONE RSTR NONE 08122002 HAIR BRN EYES HZL HGT 5'-11\" WGT 205 lb FEDERAL LIMITS APPLY ISS 10/14/2021\n",
      "\n",
      "GENERATED:\n",
      "Soto Reyes\n",
      "\n",
      "EXPECTED:\n",
      "\n",
      "SOTO MUNGUIA\n",
      "====================================================================================================\n",
      "====================================================================================================\n",
      "INSTRUCTION:\n",
      "Extract license class from the following input:\n",
      "\n",
      "INPUT:\n",
      "California DRIVER LICENSE 081202 LN SOTO MUNGUIA FN ALEC PIERRE 9939 VAN RUITEN ST BELLFLOWER, CA 90706 SEX M AM DONOR USA DLY7679862 EXP 08/12/2025 DOB 08/12/2002 AGE 2 IN 7023 DD 08/04/2021606A3/E5FD/25 CLASS C END NONE RSTR NONE 08122002 HAIR BRN EYES HZL HGT 5'-11\" WGT 205 lb FEDERAL LIMITS APPLY ISS 10/14/2021\n",
      "\n",
      "GENERATED:\n",
      "C\n",
      "\n",
      "EXPECTED:\n",
      "\n",
      "C\n",
      "====================================================================================================\n",
      "====================================================================================================\n",
      "INSTRUCTION:\n",
      "Extract drivers license number from the following input:\n",
      "\n",
      "INPUT:\n",
      "California DRIVER LICENSE 081202 LN SOTO MUNGUIA FN ALEC PIERRE 9939 VAN RUITEN ST BELLFLOWER, CA 90706 SEX M AM DONOR USA DLY7679862 EXP 08/12/2025 DOB 08/12/2002 AGE 2 IN 7023 DD 08/04/2021606A3/E5FD/25 CLASS C END NONE RSTR NONE 08122002 HAIR BRN EYES HZL HGT 5'-11\" WGT 205 lb FEDERAL LIMITS APPLY ISS 10/14/2021\n",
      "\n",
      "GENERATED:\n",
      "Y7679862\n",
      "\n",
      "EXPECTED:\n",
      "\n",
      "Y7679862\n",
      "====================================================================================================\n",
      "====================================================================================================\n",
      "INSTRUCTION:\n",
      "Extract zip from the following input:\n",
      "\n",
      "INPUT:\n",
      "California DRIVER LICENSE 081202 LN SOTO MUNGUIA FN ALEC PIERRE 9939 VAN RUITEN ST BELLFLOWER, CA 90706 SEX M AM DONOR USA DLY7679862 EXP 08/12/2025 DOB 08/12/2002 AGE 2 IN 7023 DD 08/04/2021606A3/E5FD/25 CLASS C END NONE RSTR NONE 08122002 HAIR BRN EYES HZL HGT 5'-11\" WGT 205 lb FEDERAL LIMITS APPLY ISS 10/14/2021\n",
      "\n",
      "GENERATED:\n",
      "90706\n",
      "\n",
      "EXPECTED:\n",
      "\n",
      "90706\n",
      "====================================================================================================\n",
      "====================================================================================================\n",
      "INSTRUCTION:\n",
      "Extract driving licence issue state from the following input:\n",
      "\n",
      "INPUT:\n",
      "California DRIVER LICENSE 081202 LN SOTO MUNGUIA FN ALEC PIERRE 9939 VAN RUITEN ST BELLFLOWER, CA 90706 SEX M AM DONOR USA DLY7679862 EXP 08/12/2025 DOB 08/12/2002 AGE 2 IN 7023 DD 08/04/2021606A3/E5FD/25 CLASS C END NONE RSTR NONE 08122002 HAIR BRN EYES HZL HGT 5'-11\" WGT 205 lb FEDERAL LIMITS APPLY ISS 10/14/2021\n",
      "\n",
      "GENERATED:\n",
      "CA\n",
      "\n",
      "EXPECTED:\n",
      "\n",
      "CA\n",
      "====================================================================================================\n",
      "====================================================================================================\n",
      "INSTRUCTION:\n",
      "Extract address from the following input:\n",
      "\n",
      "INPUT:\n",
      "California DRIVER LICENSE 081202 LN SOTO MUNGUIA FN ALEC PIERRE 9939 VAN RUITEN ST BELLFLOWER, CA 90706 SEX M AM DONOR USA DLY7679862 EXP 08/12/2025 DOB 08/12/2002 AGE 2 IN 7023 DD 08/04/2021606A3/E5FD/25 CLASS C END NONE RSTR NONE 08122002 HAIR BRN EYES HZL HGT 5'-11\" WGT 205 lb FEDERAL LIMITS APPLY ISS 10/14/2021\n",
      "\n",
      "GENERATED:\n",
      "9939 VAN RUITEN ST\n",
      "\n",
      "EXPECTED:\n",
      "\n",
      "9939 VAN RUITEN ST\n"
     ]
    }
   ],
   "source": [
    "count = 0\n",
    "for d in test_data:\n",
    "    instruction = d[\"instruction\"]\n",
    "    input_text= d[\"input\"]\n",
    "    generated = generate_helpdesk_response(instruction, input_text, model, tokenizer)\n",
    "    expected = d['output']\n",
    "    print(\"=\"*100)\n",
    "    print(\"=\"*100)\n",
    "    print(\"INSTRUCTION:\")\n",
    "    print(instruction)\n",
    "    print(\"\\nINPUT:\")\n",
    "    print(input_text)\n",
    "    print(\"\\nGENERATED:\")\n",
    "    print(generated)\n",
    "    print(\"\\nEXPECTED:\")\n",
    "    print(expected)\n",
    "    count += 1\n",
    "    if count > 10:\n",
    "        break"
   ]
  },
  {
   "cell_type": "code",
   "execution_count": 7,
   "id": "9978b2cf",
   "metadata": {},
   "outputs": [
    {
     "data": {
      "text/plain": [
       "True"
      ]
     },
     "execution_count": 7,
     "metadata": {},
     "output_type": "execute_result"
    }
   ],
   "source": [
    "def normalize_str(s):\n",
    "    return s.replace(\"\\n\", \"\").strip().lower()\n",
    "normalize_str(\"OSCAR\") == normalize_str(\"\\n\\nOscar \")"
   ]
  },
  {
   "cell_type": "markdown",
   "id": "a40de1d2",
   "metadata": {},
   "source": [
    "#  Compute accuracy based on instruction on goldern dataset"
   ]
  },
  {
   "cell_type": "code",
   "execution_count": 8,
   "id": "7d949925",
   "metadata": {},
   "outputs": [],
   "source": [
    "count = 0\n",
    "statistics = {}\n",
    "for d in test_data:\n",
    "    instruction = d[\"instruction\"]\n",
    "    input_text= d[\"input\"]\n",
    "    generated = generate_helpdesk_response(instruction, input_text, model, tokenizer)\n",
    "    expected = d['output']\n",
    "    if instruction in statistics:\n",
    "        stat = statistics[instruction]\n",
    "    else:\n",
    "        stat = {\"eq\": 0, \"neq\": 0}\n",
    "        statistics[instruction] = stat\n",
    "    if normalize_str(generated) == normalize_str(expected):\n",
    "        stat[\"eq\"] += 1\n",
    "    else:\n",
    "        stat[\"neq\"] += 1\n",
    "    count += 1\n",
    "    if count > 3000:\n",
    "        break"
   ]
  },
  {
   "cell_type": "code",
   "execution_count": 9,
   "id": "209bdd08",
   "metadata": {},
   "outputs": [
    {
     "name": "stdout",
     "output_type": "stream",
     "text": [
      "******************** Performance for doc transcript pii *****************\n",
      "\n",
      "=== The accuracy for task `Extract dob from the following input:`: 0.9641255605381166 on 223  samples ===\n",
      "=== The accuracy for task `Extract issue date from the following input:`: 0.8430493273542601 on 223  samples ===\n",
      "=== The accuracy for task `Extract expiration date from the following input:`: 0.9865470852017937 on 223  samples ===\n",
      "=== The accuracy for task `Extract first name from the following input:`: 0.8340807174887892 on 223  samples ===\n",
      "=== The accuracy for task `Extract middle name from the following input:`: 0.8342245989304813 on 187  samples ===\n",
      "=== The accuracy for task `Extract last name from the following input:`: 0.6771300448430493 on 223  samples ===\n",
      "=== The accuracy for task `Extract license class from the following input:`: 0.9417040358744395 on 223  samples ===\n",
      "=== The accuracy for task `Extract drivers license number from the following input:`: 0.7130044843049327 on 223  samples ===\n",
      "=== The accuracy for task `Extract zip from the following input:`: 0.968609865470852 on 223  samples ===\n",
      "=== The accuracy for task `Extract driving licence issue state from the following input:`: 0.9820627802690582 on 223  samples ===\n",
      "=== The accuracy for task `Extract address from the following input:`: 0.820627802690583 on 223  samples ===\n",
      "=== The accuracy for task `Extract gender from the following input:`: 0.9820627802690582 on 223  samples ===\n",
      "=== The accuracy for task `Extract city from the following input:`: 0.918918918918919 on 222  samples ===\n",
      "=== The accuracy for task `Is the driving license valid for identification?`: 0.9496402877697842 on 139  samples ===\n"
     ]
    }
   ],
   "source": [
    "print(f\"******************** Performance for doc transcript pii *****************\\n\")\n",
    "for k ,v in statistics.items():\n",
    "    v[\"accuracy\"] = v[\"eq\"] / (v[\"eq\"] + v['neq'])\n",
    "    print(f\"=== The accuracy for task `{k}`: {v['accuracy']} on {(v['eq'] + v['neq'])}  samples ===\")"
   ]
  },
  {
   "cell_type": "markdown",
   "id": "3f534731",
   "metadata": {},
   "source": [
    "# Accuracy on test dataset that is unseen"
   ]
  },
  {
   "cell_type": "code",
   "execution_count": 14,
   "id": "389cf182",
   "metadata": {},
   "outputs": [
    {
     "name": "stdout",
     "output_type": "stream",
     "text": [
      "******************** Performance for doc transcript pii *****************\n",
      "\n",
      "=== The accuracy for task `Extract first name from the following input:`: 0.7246376811594203 on 69  samples ===\n",
      "=== The accuracy for task `Extract zip from the following input:`: 0.9852941176470589 on 68  samples ===\n",
      "=== The accuracy for task `Extract issue date from the following input:`: 0.9710144927536232 on 69  samples ===\n",
      "=== The accuracy for task `Extract license class from the following input:`: 0.8857142857142857 on 70  samples ===\n",
      "=== The accuracy for task `Extract last name from the following input:`: 0.609375 on 64  samples ===\n",
      "=== The accuracy for task `Extract drivers license number from the following input:`: 0.7647058823529411 on 68  samples ===\n",
      "=== The accuracy for task `Extract middle name from the following input:`: 0.7945205479452054 on 73  samples ===\n",
      "=== The accuracy for task `Extract address from the following input:`: 0.7261904761904762 on 84  samples ===\n",
      "=== The accuracy for task `Extract driving licence issue state from the following input:`: 0.9342105263157895 on 76  samples ===\n",
      "=== The accuracy for task `Extract city from the following input:`: 0.8333333333333334 on 72  samples ===\n",
      "=== The accuracy for task `Extract expiration date from the following input:`: 0.9473684210526315 on 76  samples ===\n",
      "=== The accuracy for task `Is the driving license valid for identification? :`: 0.8857142857142857 on 70  samples ===\n",
      "=== The accuracy for task `Extract gender from the following input:`: 0.9838709677419355 on 62  samples ===\n",
      "=== The accuracy for task `Extract dob from the following input:`: 0.9375 on 80  samples ===\n"
     ]
    }
   ],
   "source": [
    "print(f\"******************** Performance for doc transcript pii *****************\\n\")\n",
    "for k ,v in statistics.items():\n",
    "    v[\"accuracy\"] = v[\"eq\"] / (v[\"eq\"] + v['neq'])\n",
    "    print(f\"=== The accuracy for task `{k}`: {v['accuracy']} on {(v['eq'] + v['neq'])}  samples ===\")"
   ]
  },
  {
   "cell_type": "markdown",
   "id": "f5075312",
   "metadata": {},
   "source": [
    "## Accuracy when load earlier checkpoint 19600 (performance is worse)"
   ]
  },
  {
   "cell_type": "code",
   "execution_count": 31,
   "id": "d5757cde",
   "metadata": {},
   "outputs": [
    {
     "name": "stdout",
     "output_type": "stream",
     "text": [
      "******************** Performance for doc transcript pii *****************\n",
      "\n",
      "======= The accuracy for task `Extract first name from the following input:`: 0.6363636363636364  ========\n",
      "======= The accuracy for task `Extract zip from the following input:`: 0.9166666666666666  ========\n",
      "======= The accuracy for task `Extract issue date from the following input:`: 1.0  ========\n",
      "======= The accuracy for task `Extract license class from the following input:`: 1.0  ========\n",
      "======= The accuracy for task `Extract last name from the following input:`: 0.4444444444444444  ========\n",
      "======= The accuracy for task `Extract drivers license number from the following input:`: 0.7058823529411765  ========\n",
      "======= The accuracy for task `Extract middle name from the following input:`: 0.775  ========\n",
      "======= The accuracy for task `Extract address from the following input:`: 0.8461538461538461  ========\n",
      "======= The accuracy for task `Extract driving licence issue state from the following input:`: 0.9459459459459459  ========\n",
      "======= The accuracy for task `Extract city from the following input:`: 0.9166666666666666  ========\n",
      "======= The accuracy for task `Extract expiration date from the following input:`: 0.9545454545454546  ========\n",
      "======= The accuracy for task `Is the driving license valid for identification? :`: 0.8235294117647058  ========\n",
      "======= The accuracy for task `Extract gender from the following input:`: 1.0  ========\n",
      "======= The accuracy for task `Extract dob from the following input:`: 1.0  ========\n"
     ]
    }
   ],
   "source": [
    "print(f\"******************** Performance for doc transcript pii *****************\\n\")\n",
    "for k ,v in statistics.items():\n",
    "    v[\"accuracy\"] = v[\"eq\"] / (v[\"eq\"] + v['neq'])\n",
    "    print(f\"======= The accuracy for task `{k}`: {v['accuracy']}  ========\")"
   ]
  },
  {
   "cell_type": "code",
   "execution_count": null,
   "id": "dd5533c1",
   "metadata": {},
   "outputs": [],
   "source": []
  }
 ],
 "metadata": {
  "kernelspec": {
   "display_name": "Python 3 (ipykernel)",
   "language": "python",
   "name": "python3"
  },
  "language_info": {
   "codemirror_mode": {
    "name": "ipython",
    "version": 3
   },
   "file_extension": ".py",
   "mimetype": "text/x-python",
   "name": "python",
   "nbconvert_exporter": "python",
   "pygments_lexer": "ipython3",
   "version": "3.9.16"
  }
 },
 "nbformat": 4,
 "nbformat_minor": 5
}
